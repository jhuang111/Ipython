{
 "cells": [
  {
   "cell_type": "code",
   "execution_count": 15,
   "metadata": {},
   "outputs": [],
   "source": [
    "import numpy as np\n",
    "import matplotlib.pyplot as plt\n",
    "import h5py\n",
    "from testCases_v3 import *\n",
    "from dnn_utils_v2 import sigmoid,sigmoid_backward,relu,relu_backward\n",
    "plt.rcParams['figure.figsize']=(5.0,4.0)#set default size of plots\n",
    "plt.rcParams['image.interpolation']='nearest'\n",
    "plt.rcParams['image.cmap']='gray'\n",
    "np.random.seed(1)"
   ]
  },
  {
   "cell_type": "code",
   "execution_count": 29,
   "metadata": {},
   "outputs": [],
   "source": [
    "def initialize_parameters(n_x,n_h,n_y):\n",
    "    np.random.seed(1)#为什么在外面写完在里面还要写？\n",
    "    W1=np.random.randn(n_h,n_x)*0.01\n",
    "    b1=np.zeros((n_h,1))\n",
    "    W2=np.random.randn(n_y,n_h)*0.01\n",
    "    b2=np.zeros((n_y,1))\n",
    "    assert(W1.shape==(n_h,n_x))\n",
    "    assert(b1.shape==(n_h,1))\n",
    "    assert(W2.shape==(n_y,n_h))\n",
    "    assert(b2.shape==(n_y,1))\n",
    "    parameters={\"W1\":W1,\"b1\":b1,\"W2\":W2,\"b2\":b2}\n",
    "    return parameters"
   ]
  },
  {
   "cell_type": "code",
   "execution_count": 30,
   "metadata": {},
   "outputs": [
    {
     "name": "stdout",
     "output_type": "stream",
     "text": [
      "W1=[[ 0.01624345 -0.00611756 -0.00528172]\n",
      " [-0.01072969  0.00865408 -0.02301539]]\n",
      "b1=[[ 0.]\n",
      " [ 0.]]\n",
      "W2=[[ 0.01744812 -0.00761207]]\n",
      "b2=[[ 0.]]\n"
     ]
    }
   ],
   "source": [
    "parameters=initialize_parameters(3,2,1)\n",
    "print(\"W1=\"+str(parameters[\"W1\"]))\n",
    "print(\"b1=\"+str(parameters[\"b1\"]))\n",
    "print(\"W2=\"+str(parameters[\"W2\"]))\n",
    "print(\"b2=\"+str(parameters[\"b2\"]))"
   ]
  },
  {
   "cell_type": "code",
   "execution_count": null,
   "metadata": {},
   "outputs": [],
   "source": []
  }
 ],
 "metadata": {
  "kernelspec": {
   "display_name": "Python 3",
   "language": "python",
   "name": "python3"
  },
  "language_info": {
   "codemirror_mode": {
    "name": "ipython",
    "version": 3
   },
   "file_extension": ".py",
   "mimetype": "text/x-python",
   "name": "python",
   "nbconvert_exporter": "python",
   "pygments_lexer": "ipython3",
   "version": "3.5.2"
  }
 },
 "nbformat": 4,
 "nbformat_minor": 2
}
